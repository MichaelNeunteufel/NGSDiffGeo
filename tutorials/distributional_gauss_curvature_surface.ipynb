{
 "cells": [
  {
   "cell_type": "markdown",
   "id": "3561e8aa",
   "metadata": {},
   "source": [
    "# Gauss curvature approximation on embedded surfaces\n",
    "\n",
    "In the [previous notebook](distributional_gauss_curvature.ipynb), we presented and discussed the distributional Gauss curvature and its lifting on Riemannian manifolds. However, we can also apply the method of high-order Gauss curvature on a surface $\\mathcal{S}$ embedded in $\\mathbb{R}^3$ with only a few adaptions of the method. Note that the theory can partly be extended from Riemannian manifolds to surfaces. \n",
    "\n",
    "## Setting\n",
    "The surface can be expressed by its embedding $\\Phi$, which is a polynomial. If piecewise linear, we obtain a linear/affine approximation of the exact surface. If it is of higher order, the discrete geometry gets curved for better approximation. From $\\Phi$ we can compute its gradient $F=\\nabla \\Phi\\in \\mathbb{R}^{3\\times 2}$ and the metric tensor induced by the embedding via $g= F^TF\\in \\mathbb{R}^{2\\times 2}$. Note that the polynomial degree of $g$ is $2(k-1)$ if $k$ is the order of the embedding $\\Phi$. Although the theory is available for such a $g$, we won't use a discrete lifted Gauss curvature of order $2(k-1)+1$ to fit the theory, but the more natural choice of order $k$. Furthermore, to make use of the theory that for a discrete metric stemming from the canonical Regge interpolant, we would need a commuting property of the form $\\mathcal{I}^{\\mathrm{Reg}^{2(k-1)}}(g)= (\\nabla \\mathcal{I}^{\\mathrm{Lag}^k}\\Phi)^T(\\nabla \\mathcal{I}^{\\mathrm{Lag}^k}\\Phi)$, which in general does not hold.\n",
    "\n",
    "\n",
    "Let $\\mathcal{S}$ be a surface with triangulation $\\mathcal{T}_h$.  The finite element method to approximate the Gauss curvature reads: Find $K_h \\in V_h^k$ (the Lagrange finite element space of degree $k$) such that for all $\\varphi \\in V_h^k$, \n",
    "$$\n",
    "\\int_{\\mathcal{T}_h} K_h \\varphi \\,da = \\sum_{T \\in \\mathcal{T}_h} \\int_T K|_T \\varphi\\, da + \\sum_{E \\in \\mathcal{E}_h} \\int_E [\\![ \\kappa_g ]\\!] \\varphi\\, d\\ell+ \\sum_{V \\in \\mathcal{V}_h} \\Theta_V \\varphi(V).\n",
    "$$\n",
    "Here $K|_T$ is the Gauss curvature in the interior of a triangle $T$, $[\\![\\kappa_g]\\!]$ is the jump of the geodesic curvature $\\kappa_g = \\mu \\cdot \\nabla_t t$ across the edge $E$, and \n",
    "$$\n",
    "\\Theta_V = 2\\pi-\\sum_{T:V\\subset T}\\sphericalangle_V^T\n",
    "$$\n",
    "denotes the angle defect at the vertex $V$."
   ]
  },
  {
   "cell_type": "markdown",
   "id": "f7a1fc3c",
   "metadata": {},
   "source": [
    "## Numerical example"
   ]
  },
  {
   "cell_type": "code",
   "execution_count": 1,
   "id": "6c455fe7",
   "metadata": {
    "execution": {
     "iopub.execute_input": "2025-06-19T20:43:50.993772Z",
     "iopub.status.busy": "2025-06-19T20:43:50.993326Z",
     "iopub.status.idle": "2025-06-19T20:43:51.217132Z",
     "shell.execute_reply": "2025-06-19T20:43:51.216629Z"
    }
   },
   "outputs": [],
   "source": [
    "from ngsolve import *\n",
    "from netgen.occ import *\n",
    "from ngsolve.webgui import Draw\n",
    "import random as random\n",
    "from ngsolve.krylovspace import CGSolver"
   ]
  },
  {
   "cell_type": "markdown",
   "id": "e4ac5eb4",
   "metadata": {},
   "source": [
    "We define a function that computes the $H^{-1}$-norm of a functional $f$, using the fact that $||f||_{H^{-1}}$ is equivalent to $\\|u\\|_{H^1}$ if $-\\Delta u = f$.  We will use this function later to compute the error in the discrete Gauss curvature."
   ]
  },
  {
   "cell_type": "code",
   "execution_count": 2,
   "id": "19e2ee13",
   "metadata": {
    "execution": {
     "iopub.execute_input": "2025-06-19T20:43:51.219152Z",
     "iopub.status.busy": "2025-06-19T20:43:51.218917Z",
     "iopub.status.idle": "2025-06-19T20:43:51.223264Z",
     "shell.execute_reply": "2025-06-19T20:43:51.222792Z"
    }
   },
   "outputs": [],
   "source": [
    "# H^-1 norm\n",
    "def ComputeHm1Norm(rhs, order):\n",
    "    fesH = H1(mesh, order=order)\n",
    "    u, v = fesH.TnT()\n",
    "\n",
    "    a = BilinearForm(\n",
    "        (Grad(u).Trace() * Grad(v).Trace() + u * v) * ds,\n",
    "        symmetric=True,\n",
    "        symmetric_storage=True,\n",
    "        condense=True,\n",
    "    )\n",
    "    f = LinearForm(rhs * v * ds).Assemble()\n",
    "\n",
    "    apre = Preconditioner(a, \"bddc\")\n",
    "    a.Assemble()\n",
    "    invS = CGSolver(a.mat, apre.mat, printrates=\"\\r\", maxiter=400)\n",
    "    ext = IdentityMatrix() + a.harmonic_extension\n",
    "    inv = a.inner_solve + ext @ invS @ ext.T\n",
    "\n",
    "    gfu = GridFunction(fesH)\n",
    "    gfu.vec.data = inv * f.vec\n",
    "\n",
    "    err = sqrt(Integrate(gfu**2 + Grad(gfu) ** 2, mesh, BND))\n",
    "    return err"
   ]
  },
  {
   "cell_type": "markdown",
   "id": "9927b3da",
   "metadata": {},
   "source": [
    "Next we define a function that computes $K_h = \\sum_i u_i \\varphi_i$ by solving the linear system $Mu=f$, where $M_{ij} = \\int_{\\mathcal{T}_h} \\varphi_i \\varphi_j da$ and \n",
    "$$\n",
    "f_i = \\sum_{T \\in \\mathcal{T}_h} \\int_T K|_T \\varphi_i\\, da+ \\sum_{E \\in \\mathcal{E}_h} \\int_E [\\![ \\kappa_g ]\\!] \\varphi_i \\,d\\ell  +\\sum_{V \\in \\mathcal{V}_h} \\Theta_V \\varphi_i(V).\n",
    "$$\n",
    "After computing $K_h$, the function outputs the errors $||K_h-K||_{H^{-1}}$ and $||K_h-K||_{L^2}$."
   ]
  },
  {
   "cell_type": "code",
   "execution_count": 3,
   "id": "b5d02c26",
   "metadata": {
    "execution": {
     "iopub.execute_input": "2025-06-19T20:43:51.224991Z",
     "iopub.status.busy": "2025-06-19T20:43:51.224810Z",
     "iopub.status.idle": "2025-06-19T20:43:51.230396Z",
     "shell.execute_reply": "2025-06-19T20:43:51.229944Z"
    }
   },
   "outputs": [],
   "source": [
    "def ComputeGaussCurvature(mesh, order, Kex):\n",
    "    fes = H1(mesh, order=order)\n",
    "    u, v = fes.TnT()\n",
    "\n",
    "    # for angle deficit\n",
    "    bbnd_tang = specialcf.VertexTangentialVectors(3)\n",
    "    bbnd_tang1 = bbnd_tang[:, 0]\n",
    "    bbnd_tang2 = bbnd_tang[:, 1]\n",
    "    # for geodesic curvature\n",
    "    mu = Cross(specialcf.normal(3), specialcf.tangential(3))\n",
    "    edge_curve = specialcf.EdgeCurvature(3)  # nabla_t t\n",
    "\n",
    "    # for elementwise Gauss curvature\n",
    "    def GaussCurvature():\n",
    "        nsurf = specialcf.normal(3)\n",
    "        return Cof(Grad(nsurf)) * nsurf * nsurf\n",
    "\n",
    "    # distributional Gauss curvature\n",
    "    f = LinearForm(fes)\n",
    "    # elementwise Gauss curvature\n",
    "    f += GaussCurvature() * v * ds\n",
    "    # jump of geodesic curvature\n",
    "    f += -edge_curve * mu * v * ds(element_boundary=True)\n",
    "    # one part of angle defect\n",
    "    f += -v * acos(bbnd_tang1 * bbnd_tang2) * ds(element_vb=BBND)\n",
    "\n",
    "    # mass matrix to compute discrete L2 Riesz representative\n",
    "    M = BilinearForm(u * v * ds, symmetric=True, symmetric_storage=True, condense=True)\n",
    "\n",
    "    gf_K = GridFunction(fes)\n",
    "\n",
    "    f.Assemble()\n",
    "    # second part of angle deficit (closed surface, no boundary)\n",
    "    for i in range(mesh.nv):\n",
    "        f.vec[i] += 2 * pi\n",
    "\n",
    "    Mpre = Preconditioner(M, \"bddc\")\n",
    "    M.Assemble()\n",
    "    invS = CGSolver(M.mat, Mpre.mat, printrates=\"\\r\", maxiter=400)\n",
    "    ext = IdentityMatrix() + M.harmonic_extension\n",
    "    inv = M.inner_solve + ext @ invS @ ext.T\n",
    "\n",
    "    gf_K.vec.data = inv * f.vec\n",
    "\n",
    "    l2_err = sqrt(Integrate((gf_K - Kex) ** 2, mesh, BND))\n",
    "    hm1_err = ComputeHm1Norm(gf_K - Kex, order=order + 2)\n",
    "    print(\n",
    "        f\" Check Gauss-Bonnet theorem: int gf_K = {Integrate(gf_K * ds(bonus_intorder=5), mesh)}\"\n",
    "        f\" = 4*pi = {4 * pi}\"\n",
    "    )\n",
    "\n",
    "    # uncomment to draw Gauss curvature\n",
    "    Draw(gf_K, mesh, \"K\")\n",
    "\n",
    "    return l2_err, hm1_err, fes.ndof"
   ]
  },
  {
   "cell_type": "markdown",
   "id": "c9cc2fdb",
   "metadata": {},
   "source": [
    "Now, we are ready to test the method. We triangulate an ellipsoid (using curved triangles of a given order), compute the Gaussian curvature, measure the error, and repeat several refinements. We also check how well the lifted Gauss curvature fulfils the Gauss-Bonnet theorem $\\int_{\\mathcal{T}_h}K_h\\,da = 2\\pi\\chi(\\mathcal{S}) = 4\\pi$."
   ]
  },
  {
   "cell_type": "code",
   "execution_count": 4,
   "id": "f0e1f796",
   "metadata": {
    "execution": {
     "iopub.execute_input": "2025-06-19T20:43:51.231961Z",
     "iopub.status.busy": "2025-06-19T20:43:51.231786Z",
     "iopub.status.idle": "2025-06-19T20:43:59.559704Z",
     "shell.execute_reply": "2025-06-19T20:43:59.559218Z"
    }
   },
   "outputs": [
    {
     "name": "stdout",
     "output_type": "stream",
     "text": [
      "\u001b[2KCG iteration 1, residual = 1.3883339205466358     \r",
      "\u001b[2KCG iteration 2, residual = 3.4914719444041356e-16     \r",
      "\u001b[2KCG converged in 2 iterations to residual 3.4914719444041356e-16\n",
      "\u001b[2KCG iteration 1, residual = 0.06355675886527949     \r",
      "\u001b[2KCG iteration 2, residual = 0.00146410436596337     \r",
      "\u001b[2KCG iteration 3, residual = 3.478876180113638e-05     \r",
      "\u001b[2KCG iteration 4, residual = 1.2590804009828373e-06     \r",
      "\u001b[2KCG iteration 5, residual = 5.826242542437286e-08     \r",
      "\u001b[2KCG iteration 6, residual = 3.460163082215787e-09     \r",
      "\u001b[2KCG iteration 7, residual = 1.5088559492153135e-10     \r",
      "\u001b[2KCG iteration 8, residual = 6.625284147147434e-12     \r",
      "\u001b[2KCG iteration 9, residual = 3.7356361895130755e-13     \r",
      "\u001b[2KCG iteration 10, residual = 1.667501082620788e-14     \r",
      "\u001b[2KCG converged in 10 iterations to residual 1.667501082620788e-14\n",
      " Check Gauss-Bonnet theorem: int gf_K = 12.566370614358735 = 4*pi = 12.566370614359172\n",
      "\u001b[2KCG iteration 1, residual = 1.3709999823800125     \r",
      "\u001b[2KCG iteration 2, residual = 3.5102924054337744e-16     \r",
      "\u001b[2KCG converged in 2 iterations to residual 3.5102924054337744e-16\n",
      "\u001b[2KCG iteration 1, residual = 0.021897517401128504     \r",
      "\u001b[2KCG iteration 2, residual = 0.0008809736578758736     \r",
      "\u001b[2KCG iteration 3, residual = 3.299127248360508e-05     \r",
      "\u001b[2KCG iteration 4, residual = 1.579094722491034e-06     \r",
      "\u001b[2KCG iteration 5, residual = 7.744017585723096e-08     \r",
      "\u001b[2KCG iteration 6, residual = 4.726796637632239e-09     \r",
      "\u001b[2KCG iteration 7, residual = 3.0586625727128055e-10     \r",
      "\u001b[2KCG iteration 8, residual = 1.7456965102267415e-11     \r",
      "\u001b[2KCG iteration 9, residual = 1.0089802604170427e-12     \r",
      "\u001b[2KCG iteration 10, residual = 6.808531386206267e-14     \r",
      "\u001b[2KCG iteration 11, residual = 3.842523892768628e-15     \r",
      "\u001b[2KCG converged in 11 iterations to residual 3.842523892768628e-15\n",
      " Check Gauss-Bonnet theorem: int gf_K = 12.56637061435951 = 4*pi = 12.566370614359172\n"
     ]
    },
    {
     "name": "stdout",
     "output_type": "stream",
     "text": [
      "\u001b[2KCG iteration 1, residual = 1.3640867001629917     \r",
      "\u001b[2KCG iteration 2, residual = 3.6699830585138894e-16     \r",
      "\u001b[2KCG converged in 2 iterations to residual 3.6699830585138894e-16\n",
      "\u001b[2KCG iteration 1, residual = 0.006017646289874063     \r",
      "\u001b[2KCG iteration 2, residual = 0.00025897487289294264     \r",
      "\u001b[2KCG iteration 3, residual = 9.269942590961742e-06     \r",
      "\u001b[2KCG iteration 4, residual = 5.413916088091121e-07     \r",
      "\u001b[2KCG iteration 5, residual = 3.499280769129389e-08     \r",
      "\u001b[2KCG iteration 6, residual = 2.6528640963743312e-09     \r",
      "\u001b[2KCG iteration 7, residual = 2.051750289517245e-10     \r",
      "\u001b[2KCG iteration 8, residual = 1.4455822439479616e-11     \r",
      "\u001b[2KCG iteration 9, residual = 9.561221145969693e-13     \r",
      "\u001b[2KCG iteration 10, residual = 6.61210050607925e-14     \r",
      "\u001b[2KCG iteration 11, residual = 4.41942441373617e-15     \r",
      "\u001b[2KCG converged in 11 iterations to residual 4.41942441373617e-15\n",
      " Check Gauss-Bonnet theorem: int gf_K = 12.566370614360904 = 4*pi = 12.566370614359172\n"
     ]
    },
    {
     "name": "stdout",
     "output_type": "stream",
     "text": [
      "\u001b[2KCG iteration 1, residual = 1.3626938073967527     \r",
      "\u001b[2KCG iteration 2, residual = 4.552794261946925e-16     \r",
      "\u001b[2KCG converged in 2 iterations to residual 4.552794261946925e-16\n",
      "\u001b[2KCG iteration 1, residual = 0.0024358724034992223     \r",
      "\u001b[2KCG iteration 2, residual = 0.00011979199118698395     \r",
      "\u001b[2KCG iteration 3, residual = 4.636418517049152e-06     \r",
      "\u001b[2KCG iteration 4, residual = 2.5772794904242766e-07     \r",
      "\u001b[2KCG iteration 5, residual = 1.75608261786405e-08     \r",
      "\u001b[2KCG iteration 6, residual = 1.4712024531702179e-09     \r",
      "\u001b[2KCG iteration 7, residual = 1.1375685720191038e-10     \r",
      "\u001b[2KCG iteration 8, residual = 7.705518467278114e-12     \r",
      "\u001b[2KCG iteration 9, residual = 5.499543477856821e-13     \r",
      "\u001b[2KCG iteration 10, residual = 4.2504419879749346e-14     \r",
      "\u001b[2KCG iteration 11, residual = 3.302428734569207e-15     \r",
      "\u001b[2KCG iteration 12, residual = 2.2263178275208573e-16     \r",
      "\u001b[2KCG converged in 12 iterations to residual 2.2263178275208573e-16\n"
     ]
    },
    {
     "name": "stdout",
     "output_type": "stream",
     "text": [
      " Check Gauss-Bonnet theorem: int gf_K = 12.566370614358847 = 4*pi = 12.566370614359172\n"
     ]
    },
    {
     "name": "stdout",
     "output_type": "stream",
     "text": [
      "\u001b[2KCG iteration 1, residual = 1.3624346051602312     \r",
      "\u001b[2KCG iteration 2, residual = 4.517962715975102e-16     \r",
      "\u001b[2KCG converged in 2 iterations to residual 4.517962715975102e-16\n"
     ]
    },
    {
     "name": "stdout",
     "output_type": "stream",
     "text": [
      "\u001b[2KCG iteration 1, residual = 0.0011819068438854502     \r",
      "\u001b[2KCG iteration 2, residual = 6.0732340267527575e-05     \r",
      "\u001b[2KCG iteration 3, residual = 2.372443530921672e-06     \r",
      "\u001b[2KCG iteration 4, residual = 1.5709126302684477e-07     \r",
      "\u001b[2KCG iteration 5, residual = 1.3762822082667441e-08     \r",
      "\u001b[2KCG iteration 6, residual = 1.1391544285028308e-09     \r",
      "\u001b[2KCG iteration 7, residual = 9.497078394328444e-11     \r",
      "\u001b[2KCG iteration 8, residual = 7.82063735393992e-12     \r",
      "\u001b[2KCG iteration 9, residual = 5.929452621028781e-13     \r",
      "\u001b[2KCG iteration 10, residual = 4.941762717190694e-14     \r"
     ]
    },
    {
     "name": "stdout",
     "output_type": "stream",
     "text": [
      "\u001b[2KCG iteration 11, residual = 4.365149044678744e-15     \r",
      "\u001b[2KCG iteration 12, residual = 3.626850358389636e-16     \r",
      "\u001b[2KCG converged in 12 iterations to residual 3.626850358389636e-16\n",
      " Check Gauss-Bonnet theorem: int gf_K = 12.566370614372076 = 4*pi = 12.566370614359172\n"
     ]
    }
   ],
   "source": [
    "order = 1\n",
    "# radius of sphere/ellipsoid\n",
    "R = 3\n",
    "\n",
    "# use sphere or ellipsoid surface\n",
    "if False:  # sphere\n",
    "    geo = Sphere((0, 0, 0), R).faces[0]\n",
    "    # exact Gauss curvature of sphere\n",
    "    Kex = 1 / R**2\n",
    "else:  # ellipsoid\n",
    "    a = R\n",
    "    b = R\n",
    "    c = 3 / 4 * R\n",
    "    geo = Ellipsoid(Axes((0, 0, 0), X, Y), a, b, c).faces[0]\n",
    "    # exact Gauss curvature of ellipsoid\n",
    "    Kex = 1 / (a**2 * b**2 * c**2 * (x**2 / a**4 + y**2 / b**4 + z**2 / c**4) ** 2)\n",
    "\n",
    "err_l2 = []\n",
    "err_hm1 = []\n",
    "ndof = []\n",
    "\n",
    "with TaskManager():\n",
    "    for i in range(4 + (order == 1)):\n",
    "        mesh = Mesh(OCCGeometry(geo).GenerateMesh(maxh=0.5**i)).Curve(order)\n",
    "\n",
    "        errl, errm1, dof = ComputeGaussCurvature(mesh, order, Kex=Kex)\n",
    "        err_l2.append(errl)\n",
    "        err_hm1.append(errm1)\n",
    "        ndof.append(dof)"
   ]
  },
  {
   "cell_type": "markdown",
   "id": "5f7fc6ec",
   "metadata": {},
   "source": [
    "Finally, we plot the errors against the number of degrees of freedom."
   ]
  },
  {
   "cell_type": "code",
   "execution_count": 5,
   "id": "51a457f4",
   "metadata": {
    "execution": {
     "iopub.execute_input": "2025-06-19T20:43:59.561662Z",
     "iopub.status.busy": "2025-06-19T20:43:59.561220Z",
     "iopub.status.idle": "2025-06-19T20:44:00.316910Z",
     "shell.execute_reply": "2025-06-19T20:44:00.316316Z"
    }
   },
   "outputs": [
    {
     "data": {
      "image/png": "[encoded data removed]",
      "text/plain": [
       "<Figure size 640x480 with 1 Axes>"
      ]
     },
     "metadata": {},
     "output_type": "display_data"
    }
   ],
   "source": [
    "import matplotlib.pyplot as plt\n",
    "\n",
    "plt.plot(ndof, err_hm1, \"-o\", label=r\"$\\|K_h-K_{\\mathrm{ex}}\\|_{H^{-1}}$\")\n",
    "plt.plot(ndof, err_l2, \"-x\", label=r\"$\\|K_h-K_{\\mathrm{ex}}\\|_{L^2}$\")\n",
    "plt.plot(\n",
    "    ndof,\n",
    "    [order**order * dof ** (-(order - 1) / 2) for dof in ndof],\n",
    "    \"-.\",\n",
    "    color=\"k\",\n",
    "    label=f\"$O(h^{order-1})$\",\n",
    ")\n",
    "plt.plot(\n",
    "    ndof,\n",
    "    [order**order * dof ** (-(order) / 2) for dof in ndof],\n",
    "    \"-\",\n",
    "    color=\"k\",\n",
    "    label=f\"$O(h^{order})$\",\n",
    ")\n",
    "plt.plot(\n",
    "    ndof,\n",
    "    [order**order * dof ** (-(order + 1) / 2) for dof in ndof],\n",
    "    \"--\",\n",
    "    color=\"k\",\n",
    "    label=f\"$O(h^{order+1})$\",\n",
    ")\n",
    "plt.yscale(\"log\")\n",
    "plt.xscale(\"log\")\n",
    "plt.legend()\n",
    "plt.title(f\"order = {order}\")\n",
    "plt.show()"
   ]
  },
  {
   "cell_type": "markdown",
   "id": "0678ecce",
   "metadata": {},
   "source": [
    "Observations: Except for $k=2$, we observe the convergence rates\n",
    "$$\n",
    "\\begin{align*}\n",
    "\\|K_h-K\\|_{L^2}\\le C h^{k-1},\\qquad \\|K_h-K\\|_{H^{-1}}\\le C h^{k}.\n",
    "\\end{align*}\n",
    "$$\n",
    "One additional order of convergence is observed for $k=2$ of curving the surface quadratically. This could be a lucky case where the theory of improved convergence rates applies."
   ]
  },
  {
   "cell_type": "code",
   "execution_count": null,
   "id": "da0c7101",
   "metadata": {},
   "outputs": [],
   "source": []
  }
 ],
 "metadata": {
  "kernelspec": {
   "display_name": "Python 3",
   "language": "python",
   "name": "python3"
  },
  "language_info": {
   "codemirror_mode": {
    "name": "ipython",
    "version": 3
   },
   "file_extension": ".py",
   "mimetype": "text/x-python",
   "name": "python",
   "nbconvert_exporter": "python",
   "pygments_lexer": "ipython3",
   "version": "3.12.11"
  }
 },
 "nbformat": 4,
 "nbformat_minor": 5
}
