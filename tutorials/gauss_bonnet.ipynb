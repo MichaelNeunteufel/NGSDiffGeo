{
 "cells": [
  {
   "cell_type": "markdown",
   "metadata": {},
   "source": [
    "# Gauss-Bonnet theorem\n",
    "This notebook discusses the Gauss-Bonnet theorem for smooth manifolds without boundary, with a smooth boundary, and piecewise smooth boundary with vertices. The arising curvature quantities are the Gauss curvature of the manifold, the geodesic curvature on the smooth part of the boundary, and the angle defect (angle deficit) at the non-smooth vertices of the boundary. The Gauss-Bonnet theorem relates the curvature of a surface $\\mathcal{S}$ with a topological quantity. More precisely, the Gauss-Bonnet theorem holds for two-dimensional Riemannian manifolds, but we consider two-dimensional surfaces embedded in $\\mathbb{R}^3$ for visualisation.\n",
    "\n",
    "## Surfaces without a boundary\n",
    "For closed smooth surfaces $\\mathcal{S}$ without a boundary, i.e. $\\partial\\mathcal{S}=\\emptyset$, there holds with the Gauss curvature $K$ the following version of the Gauss-Bonnet theorem:\n",
    "\\begin{align*}\n",
    "\\int_{\\mathcal{S}}K\\,ds = 2\\pi\\chi_{\\mathcal{S}}.\n",
    "\\end{align*}\n",
    "Here $\\chi_{\\mathcal{S}}$ is the Euler characteristic of the surface, a topological quantity. For a triangulation of $\\mathcal{S}$ the Euler characteristic can be computed with the formula $\\chi_{\\mathcal{S}}=\\# T-\\# E + \\# V$, i.e., the number of triangles minus number of edges plus number of vertices. It is related to the genus $g$ of a connected closed surface (''number of holes''). For orientable surfaces there holds $\\chi_{\\mathcal{S}}=2-2g$.\n",
    "\n",
    "We investigate some closed surfaces."
   ]
  },
  {
   "cell_type": "code",
   "execution_count": 1,
   "metadata": {
    "execution": {
     "iopub.execute_input": "2025-06-17T21:13:52.288069Z",
     "iopub.status.busy": "2025-06-17T21:13:52.287892Z",
     "iopub.status.idle": "2025-06-17T21:13:52.521674Z",
     "shell.execute_reply": "2025-06-17T21:13:52.521038Z"
    }
   },
   "outputs": [],
   "source": [
    "from ngsolve import *\n",
    "from netgen.occ import *\n",
    "from ngsolve.webgui import Draw\n",
    "\n",
    "# polynomial order for curving the surface\n",
    "order = 4\n",
    "\n",
    "\n",
    "# utility function to compute the Gauss curvature on a surface\n",
    "def GaussCurvature():\n",
    "    nsurf = specialcf.normal(3)\n",
    "    return Cof(Grad(nsurf)) * nsurf * nsurf"
   ]
  },
  {
   "cell_type": "markdown",
   "metadata": {},
   "source": [
    "For a sphere of radius $R>0$ the Gauss curvature is $K=\\frac{1}{R^2}$ and its Euler characteristic $2$ (genus $g=0$, no holes). We observe that the integral does not perfectly fit with the expected value. However, it gets way more accurate if we approximate the surface by a higher polynomial degree (or generate a finer mesh). We will understand why this happens later in this notebook."
   ]
  },
  {
   "cell_type": "code",
   "execution_count": 2,
   "metadata": {
    "execution": {
     "iopub.execute_input": "2025-06-17T21:13:52.523881Z",
     "iopub.status.busy": "2025-06-17T21:13:52.523629Z",
     "iopub.status.idle": "2025-06-17T21:13:52.751950Z",
     "shell.execute_reply": "2025-06-17T21:13:52.751275Z"
    }
   },
   "outputs": [
    {
     "name": "stdout",
     "output_type": "stream",
     "text": [
      "int_S K = 12.566702932823457 = 4*pi = 12.566370614359172 = 2*pi*(#T-#E+#V) = 12.566370614359172\n"
     ]
    }
   ],
   "source": [
    "sphere = Sphere((0, 0, 0), 3).faces[0]\n",
    "mesh = Mesh(OCCGeometry(sphere).GenerateMesh(maxh=0.4)).Curve(order)\n",
    "Draw(mesh)\n",
    "print(\n",
    "    f\"int_S K = {Integrate(GaussCurvature() * ds, mesh)} = 4*pi = {4 * pi}\"\n",
    "    f\" = 2*pi*(#T-#E+#V) = {2 * pi * (mesh.nface - mesh.nedge + mesh.nv)}\",\n",
    ")"
   ]
  },
  {
   "cell_type": "markdown",
   "metadata": {},
   "source": [
    "An ellipsoid is topologically equivalent to a sphere. Therefore, we expect it to have the same Euler characteristic."
   ]
  },
  {
   "cell_type": "code",
   "execution_count": 3,
   "metadata": {
    "execution": {
     "iopub.execute_input": "2025-06-17T21:13:52.754105Z",
     "iopub.status.busy": "2025-06-17T21:13:52.753887Z",
     "iopub.status.idle": "2025-06-17T21:13:53.266942Z",
     "shell.execute_reply": "2025-06-17T21:13:53.266362Z"
    }
   },
   "outputs": [
    {
     "name": "stdout",
     "output_type": "stream",
     "text": [
      "int_S K = 12.572887860639069 = 4*pi = 12.566370614359172 = 2*pi*(#T-#E+#V) = 12.566370614359172\n"
     ]
    }
   ],
   "source": [
    "ell = Ellipsoid(Axes((0, 0, 0), X, Y), 0.75, 1 / 2, 1 / 3).faces[0]\n",
    "mesh = Mesh(OCCGeometry(ell).GenerateMesh(maxh=0.07)).Curve(order)\n",
    "Draw(mesh)\n",
    "print(\n",
    "    f\"int_S K = {Integrate(GaussCurvature() * ds, mesh)} = 4*pi = {4 * pi}\"\n",
    "    f\" = 2*pi*(#T-#E+#V) = {2 * pi * (mesh.nface - mesh.nedge + mesh.nv)}\",\n",
    ")"
   ]
  },
  {
   "cell_type": "markdown",
   "metadata": {},
   "source": [
    "A torus has Euler characteristic $\\chi_{\\mathcal{S}}=0$. Its genus is $g=1$ as it has one hole."
   ]
  },
  {
   "cell_type": "code",
   "execution_count": 4,
   "metadata": {
    "execution": {
     "iopub.execute_input": "2025-06-17T21:13:53.268982Z",
     "iopub.status.busy": "2025-06-17T21:13:53.268594Z",
     "iopub.status.idle": "2025-06-17T21:13:53.433342Z",
     "shell.execute_reply": "2025-06-17T21:13:53.432747Z"
    }
   },
   "outputs": [
    {
     "name": "stdout",
     "output_type": "stream",
     "text": [
      "int_S K = 0.017253064926507904 = 0 = 2*pi*(#T-#E+#V) = 0.0\n"
     ]
    }
   ],
   "source": [
    "circ = WorkPlane(Axes((3, 0, 0), -Y, X)).Circle(1).Face()\n",
    "torus = Revolve(circ, Axis((0, 0, 0), (0, 0, 1)), 360)\n",
    "torus.faces.name = \"torus\"\n",
    "mesh = Mesh(OCCGeometry(torus.faces[0]).GenerateMesh(maxh=0.8)).Curve(order)\n",
    "Draw(mesh)\n",
    "print(\n",
    "    f\"int_S K = {Integrate(GaussCurvature() * ds, mesh)} = 0\"\n",
    "    f\" = 2*pi*(#T-#E+#V) = {2 * pi * (mesh.nface - mesh.nedge + mesh.nv)}\",\n",
    ")"
   ]
  },
  {
   "cell_type": "markdown",
   "metadata": {},
   "source": [
    "## Gauss-Bonnet for non-closed and non-smooth surfaces\n",
    "\n",
    "Let's try combining two tori such that the Euler characteristic changes to $-2$ because now two holes are present."
   ]
  },
  {
   "cell_type": "code",
   "execution_count": 5,
   "metadata": {
    "execution": {
     "iopub.execute_input": "2025-06-17T21:13:53.435452Z",
     "iopub.status.busy": "2025-06-17T21:13:53.435020Z",
     "iopub.status.idle": "2025-06-17T21:13:53.948894Z",
     "shell.execute_reply": "2025-06-17T21:13:53.948344Z"
    },
    "scrolled": false
   },
   "outputs": [
    {
     "name": "stdout",
     "output_type": "stream",
     "text": [
      "int_S K = -4.099770502767808 = 2 * pi * (2 - 4) = -12.566370614359172 = 2*pi*(#T-#E+#V) = -12.566370614359172\n"
     ]
    }
   ],
   "source": [
    "torus2 = Translation((6.5, 0, 0))(torus)\n",
    "torus2.faces.name = \"torus2\"\n",
    "two_torus = Glue((torus2 - torus).faces[\"torus2\"] + (torus - torus2).faces[\"torus\"])\n",
    "mesh = Mesh(OCCGeometry(two_torus).GenerateMesh(maxh=1)).Curve(order)\n",
    "Draw(mesh)\n",
    "print(\n",
    "    f\"int_S K = {Integrate(GaussCurvature() * ds, mesh)} = 2 * pi * (2 - 4)\"\n",
    "    f\" = {2 * pi * (2 - 4)} = 2*pi*(#T-#E+#V) = {2 * pi * (mesh.nface - mesh.nedge + mesh.nv)}\",\n",
    ")"
   ]
  },
  {
   "cell_type": "markdown",
   "metadata": {},
   "source": [
    "The computation by counting the number of triangles, edges, and vertices matches the expected value. However, the integral of the Gauss curvature does not. Why? \n",
    "\n",
    "The generated surface is not smooth at the interface!\n",
    "\n",
    "\n",
    "For non-closed and non-smooth surfaces, the Gauss-Bonnet theorem takes a different form:\n",
    "\\begin{align*}\n",
    "\\int_{\\mathcal{S}}K\\,ds + \\int_{\\partial \\mathcal{S}}\\kappa_g\\,dl = 2\\pi\\chi_{\\mathcal{S}},\n",
    "\\end{align*}\n",
    "where $\\kappa_g$ denotes the geodesic curvature of the boundary curve $\\partial \\mathcal{S}$\n",
    "We must include the geodesic curvature at the non-smooth interface from both sides of the tori to obtain the correct results. We recall that with the tangent vector $t$ and co-normal vector $\\mu$ the geodesic curvature is given by\n",
    "\\begin{align*}\n",
    "\\kappa_g = \\nabla_tt\\cdot \\mu.\n",
    "\\end{align*}\n",
    "Note that for a smooth surface, at least $C^1$, the geodesic curvature computed along a curve inside the manifold coincides when computed from both sides up to a sign (the co-normal vector changes its orientation). Then, the sum of the geodesic curvatures cancels out.\n",
    "\n",
    "Let's try the previous example, but now including the geodesic curvature. Now, the result looks good again."
   ]
  },
  {
   "cell_type": "code",
   "execution_count": 6,
   "metadata": {
    "execution": {
     "iopub.execute_input": "2025-06-17T21:13:53.950751Z",
     "iopub.status.busy": "2025-06-17T21:13:53.950567Z",
     "iopub.status.idle": "2025-06-17T21:13:54.018925Z",
     "shell.execute_reply": "2025-06-17T21:13:54.018396Z"
    }
   },
   "outputs": [
    {
     "name": "stdout",
     "output_type": "stream",
     "text": [
      "int_S K + int_{dS} k_g = -4.099770502767808 + -8.477226902598067 = -12.576997405365876\n"
     ]
    }
   ],
   "source": [
    "mu = Cross(specialcf.normal(3), specialcf.tangential(3))\n",
    "# for geodesic curvature\n",
    "edge_curve = specialcf.EdgeCurvature(3)  # nabla_t t\n",
    "\n",
    "print(\n",
    "    f\"int_S K + int_{{dS}} k_g = {Integrate(GaussCurvature() * ds, mesh)}\"\n",
    "    f\" + {Integrate(-edge_curve * mu * ds(element_boundary=True), mesh)}\"\n",
    "    f\" = {Integrate(GaussCurvature() * ds - edge_curve * mu * ds(element_boundary=True), mesh)}\"\n",
    ")"
   ]
  },
  {
   "cell_type": "markdown",
   "metadata": {},
   "source": [
    "## Gauss-Bonnet for surfaces with piecewise smooth boundary\n",
    "\n",
    "Consider a flat rectangle. It is topologically equivalent to the half-sphere. Thus $\\chi_{\\mathcal{S}}=1$. However, it has zero Gauss and geodesic curvature. To account for the non-smooth boundary of the rectangle, we extend the Gauss-Bonnet theorem to its general form\n",
    "\\begin{align*}\n",
    "\\int_{\\mathcal{S}}K\\,ds + \\int_{\\partial \\mathcal{S}}\\kappa_g\\,dl + \\sum_{\\mathrm{vertices}\\,V}(\\pi-\\varepsilon_V)= 2\\pi\\chi_{\\mathcal{S}}.\n",
    "\\end{align*}\n",
    "Here, we sum over all vertices, where the boundary is non-smooth and compute the jump angle $\\varepsilon_V$, which measures the angle from the incoming tangent vector to the outgoing tangent vector. The interior angle used in the Gauss-Bonnet theorem is given by $\\pi-\\varepsilon_V$. For a smooth triangulation of a smooth manifold, the sum of the jump angles at a vertex $V$ will add up to $2\\pi$. However, for a non-smooth surface, like we are considering, the sum won't be $2\\pi$. Thus, we can define the so-called angle defect $\\sphericalangle_V$ as\n",
    "\\begin{align*}\n",
    "\\sphericalangle_V = 2\\pi-\\sum_{T\\supset V}\\sphericalangle_V^T,\\qquad \\sphericalangle_V^T= \\arccos(t_1,t_2),\n",
    "\\end{align*}\n",
    "where $t_1$ and $t_2$ are the two unit tangent vectors starting at $V$ and going in direction of the edges attached to $V$ on the element $T$.\n",
    "\n",
    "In summary, we need to consider the Gauss curvature, geodesic curvature, and the interior angle for the Gauss-Bonnet theorem, visualized in the following picture. Thus, all these quantities are tightly connected to each other.\n",
    "<center>\n",
    "<img src=\"figures/curved_triangle_gb.png\" width=\"150\" align=\"center\"> \n",
    "</center>\n",
    "\n",
    "For the rectangle, each of its four vertices has an angle of $\\frac{\\pi}{2}$ and thus some up to $2\\pi$ such that Gauss-Bonnet is again fulfilled.\n",
    "<center>\n",
    "<img src=\"figures/rect_gb.png\" width=\"180\" align=\"center\"> \n",
    "</center>"
   ]
  },
  {
   "cell_type": "code",
   "execution_count": 7,
   "metadata": {
    "execution": {
     "iopub.execute_input": "2025-06-17T21:13:54.020958Z",
     "iopub.status.busy": "2025-06-17T21:13:54.020577Z",
     "iopub.status.idle": "2025-06-17T21:13:54.032025Z",
     "shell.execute_reply": "2025-06-17T21:13:54.031552Z"
    }
   },
   "outputs": [
    {
     "name": "stdout",
     "output_type": "stream",
     "text": [
      "int_S K + int_{dS} k_g = 6.283185307179734 =  2*pi = 6.283185307179586 = 2*pi*(#T-#E+#V) = 6.283185307179586\n"
     ]
    }
   ],
   "source": [
    "# auxiliary function to compute the angle deficit of the interior vertices\n",
    "# and the interior angle for boundary vertices of a surface\n",
    "def ComputeAngleDeficit(mesh, correct_bnd_vertices=False, draw=False):\n",
    "    bbnd_tang = specialcf.VertexTangentialVectors(3)\n",
    "    bbnd_tang1 = bbnd_tang[:, 0]\n",
    "    bbnd_tang2 = bbnd_tang[:, 1]\n",
    "\n",
    "    fesH = H1(mesh, order=1)\n",
    "    _, v = fesH.TnT()\n",
    "    f = LinearForm(v * acos(bbnd_tang1 * bbnd_tang2) * ds(element_vb=BBND)).Assemble()\n",
    "\n",
    "    gf_angle_def = GridFunction(fesH)\n",
    "    # angle deficit at interior vertices\n",
    "    for i in range(len(gf_angle_def.vec)):\n",
    "        gf_angle_def.vec[i] = 2 * pi - f.vec[i]\n",
    "    # corrrect angle for boundary vertices\n",
    "    if correct_bnd_vertices:\n",
    "        for el in fesH.Elements(BBND):\n",
    "            for d in el.dofs:\n",
    "                gf_angle_def.vec[d] -= pi / 2\n",
    "    if draw:\n",
    "        Draw(gf_angle_def, mesh, \"angle_deficit\")\n",
    "    return gf_angle_def\n",
    "\n",
    "\n",
    "mesh = Mesh(OCCGeometry(Rectangle(2, 1).Face(), dim=3).GenerateMesh(maxh=0.4))\n",
    "Draw(mesh)\n",
    "gf_angle_def = ComputeAngleDeficit(mesh, correct_bnd_vertices=True, draw=True)\n",
    "print(\n",
    "    f\"int_S K + int_{{dS}} k_g = \"\n",
    "    f\"{Integrate(GaussCurvature() * ds - edge_curve * mu * ds(element_boundary=True), mesh) + sum(gf_angle_def.vec)}\"\n",
    "    f\" =  2*pi = {2*pi} = 2*pi*(#T-#E+#V) = {2 * pi * (mesh.nface - mesh.nedge + mesh.nv)}\"\n",
    ")"
   ]
  },
  {
   "cell_type": "markdown",
   "metadata": {},
   "source": [
    "If we round the edges such that a C1-boundary is obtained, the geodesic curvature $\\kappa_g$ includes all curvature information. Thus, the vertex contributions can be seen as the limit of geodesic curvatures (magnitude $\\frac{1}{\\varepsilon}$) integrated over the circle part (magnitude $\\varepsilon$)."
   ]
  },
  {
   "cell_type": "code",
   "execution_count": 8,
   "metadata": {
    "execution": {
     "iopub.execute_input": "2025-06-17T21:13:54.033955Z",
     "iopub.status.busy": "2025-06-17T21:13:54.033604Z",
     "iopub.status.idle": "2025-06-17T21:13:54.049269Z",
     "shell.execute_reply": "2025-06-17T21:13:54.048815Z"
    }
   },
   "outputs": [
    {
     "name": "stdout",
     "output_type": "stream",
     "text": [
      "int_S K + int_{dS} k_g = 6.289394080128498 = 6.283185307179586 = 2*pi*(#T-#E+#V) = 6.283185307179586\n"
     ]
    }
   ],
   "source": [
    "wp = WorkPlane()\n",
    "wp.Line(1.6).Arc(0.2, 90)\n",
    "wp.Line(0.6).Arc(0.2, 90)\n",
    "wp.Line(1.6).Arc(0.2, 90)\n",
    "wp.Line(0.6).Arc(0.2, 90)\n",
    "face = wp.Face()\n",
    "mesh = Mesh(OCCGeometry(face, dim=3).GenerateMesh(maxh=2)).Curve(order)\n",
    "Draw(mesh)\n",
    "\n",
    "print(\n",
    "    f\"int_S K + int_{{dS}} k_g = \"\n",
    "    f\"{Integrate(GaussCurvature() * ds - edge_curve * mu * ds(element_boundary=True), mesh)} = {pi * 2}\"\n",
    "    f\" = 2*pi*(#T-#E+#V) = {2 * pi * (mesh.nface - mesh.nedge + mesh.nv)}\"\n",
    ")"
   ]
  },
  {
   "cell_type": "markdown",
   "metadata": {},
   "source": [
    "## Gauss-Bonnet on more non-smooth surfaces\n",
    "We apply the Gauss-Bonnet theorem to different non-smooth surfaces. \n",
    "\n",
    "First, we have a cylinder surface consisting of three smooth surfaces glued together at two boundaries. The cylinder mantle has Gauss curvature zero and also the top and bottom flat circles. Thus, the different geodesic curvatures, when measured from the cylinder mantle, where the geodesic curvature is zero, and the circles, where it is the reciprocal of the circle radius, sum up to $4\\pi$. It is topologically equivalent to a sphere."
   ]
  },
  {
   "cell_type": "code",
   "execution_count": 9,
   "metadata": {
    "execution": {
     "iopub.execute_input": "2025-06-17T21:13:54.051301Z",
     "iopub.status.busy": "2025-06-17T21:13:54.050934Z",
     "iopub.status.idle": "2025-06-17T21:13:54.075768Z",
     "shell.execute_reply": "2025-06-17T21:13:54.075258Z"
    }
   },
   "outputs": [
    {
     "name": "stdout",
     "output_type": "stream",
     "text": [
      "int_S K  = 0.0014061761979716643 \n",
      "int_{dS} k_g = 12.573826270855013 \n",
      "2*pi*(#T-#E+#V) = 12.566370614359172\n"
     ]
    }
   ],
   "source": [
    "cyl_vol = Cylinder((0, 0, 0), (0, 0, 1), 1, 2)\n",
    "cyl = Glue([cyl_vol.faces[0], cyl_vol.faces[1], cyl_vol.faces[2]])\n",
    "mesh = Mesh(OCCGeometry(cyl).GenerateMesh(maxh=1)).Curve(order)\n",
    "Draw(mesh)\n",
    "\n",
    "print(\n",
    "    f\"int_S K  = {Integrate(GaussCurvature() * ds, mesh)} \\nint_{{dS}} k_g\"\n",
    "    f\" = {Integrate(-edge_curve * mu * ds(element_boundary=True), mesh)} \\n2*pi*(#T-#E+#V)\"\n",
    "    f\" = {2 * pi * (mesh.nface - mesh.nedge + mesh.nv)}\",\n",
    ")"
   ]
  },
  {
   "cell_type": "markdown",
   "metadata": {},
   "source": [
    "By smoothing the boundaries to be $C^1$, the Gauss curvature contains all curvature information. Thus, the geodesic curvature can be understood as the limit of the Gauss curvature when the surface degenerates to a curve."
   ]
  },
  {
   "cell_type": "code",
   "execution_count": 10,
   "metadata": {
    "execution": {
     "iopub.execute_input": "2025-06-17T21:13:54.077857Z",
     "iopub.status.busy": "2025-06-17T21:13:54.077475Z",
     "iopub.status.idle": "2025-06-17T21:13:54.304925Z",
     "shell.execute_reply": "2025-06-17T21:13:54.304389Z"
    }
   },
   "outputs": [
    {
     "name": "stdout",
     "output_type": "stream",
     "text": [
      "int_S K = 12.597224467820945 \n",
      "int_{dS} k_g = -0.0305680670786335 \n",
      "2*pi*(#T-#E+#V) = 12.566370614359172\n"
     ]
    }
   ],
   "source": [
    "cyl_curved = cyl_vol.MakeFillet(cyl.edges, 0.2).faces\n",
    "mesh = Mesh(OCCGeometry(cyl_curved).GenerateMesh(maxh=1)).Curve(order)\n",
    "Draw(GaussCurvature(), mesh)\n",
    "print(\n",
    "    f\"int_S K = {Integrate(GaussCurvature() * ds, mesh)} \\nint_{{dS}} k_g\"\n",
    "    f\" = {Integrate(-edge_curve * mu * ds(element_boundary=True), mesh)} \\n2*pi*(#T-#E+#V)\"\n",
    "    f\" = {2 * pi * (mesh.nface - mesh.nedge + mesh.nv)}\",\n",
    ")"
   ]
  },
  {
   "cell_type": "markdown",
   "metadata": {},
   "source": [
    "Next, we consider the surface of a box. Here, the Gauss curvature and geodesic curvature are zero. All curvature information sits in the eight corners of the box."
   ]
  },
  {
   "cell_type": "code",
   "execution_count": 11,
   "metadata": {
    "execution": {
     "iopub.execute_input": "2025-06-17T21:13:54.306934Z",
     "iopub.status.busy": "2025-06-17T21:13:54.306550Z",
     "iopub.status.idle": "2025-06-17T21:13:54.343542Z",
     "shell.execute_reply": "2025-06-17T21:13:54.343012Z"
    },
    "scrolled": false
   },
   "outputs": [
    {
     "name": "stdout",
     "output_type": "stream",
     "text": [
      "K    = 0.0\n",
      "kg   = 9.131304725410944e-13\n",
      "kV   = 12.566370614359117\n",
      "K + kg + kV = 12.56637061436003\n",
      "4*pi        = 12.566370614359172\n"
     ]
    }
   ],
   "source": [
    "cube = Box((0, 0, 0), (1, 1, 1))\n",
    "mesh = Mesh(OCCGeometry(cube.faces).GenerateMesh(maxh=0.2))\n",
    "Draw(mesh)\n",
    "\n",
    "\n",
    "gf_angle_def = ComputeAngleDeficit(mesh, draw=True)\n",
    "print(f\"K    = {Integrate(GaussCurvature() * ds, mesh)}\")\n",
    "print(f\"kg   = {Integrate(-edge_curve * mu * ds(element_boundary=True), mesh)}\")\n",
    "print(f\"kV   = {sum(gf_angle_def.vec)}\")\n",
    "print(\n",
    "    f\"K + kg + kV = \"\n",
    "    f\"{Integrate(GaussCurvature() * ds - edge_curve * mu * ds(element_boundary=True), mesh) + sum(gf_angle_def.vec)}\",\n",
    ")\n",
    "print(f\"4*pi        = {4 * pi}\")\n"
   ]
  },
  {
   "cell_type": "markdown",
   "metadata": {},
   "source": [
    "We can smooth the vertices to obtain a smooth surface. Then, again, the Gauss curvature contains all curvature information. Thus, the angle defect can also be seen as a limit from the Gauss curvature."
   ]
  },
  {
   "cell_type": "code",
   "execution_count": 12,
   "metadata": {
    "execution": {
     "iopub.execute_input": "2025-06-17T21:13:54.345522Z",
     "iopub.status.busy": "2025-06-17T21:13:54.345108Z",
     "iopub.status.idle": "2025-06-17T21:13:54.510379Z",
     "shell.execute_reply": "2025-06-17T21:13:54.509838Z"
    }
   },
   "outputs": [
    {
     "name": "stdout",
     "output_type": "stream",
     "text": [
      "K    = 12.750119514496292\n",
      "kg   = -0.18235138482711769\n",
      "kV   = -7.881543728238682e-05\n",
      "K + kg + kV = 12.567689314231892\n",
      "4*pi        = 12.566370614359172\n"
     ]
    }
   ],
   "source": [
    "# try out using bonus_order = 0 and bonus_order = 10\n",
    "bonus_order = 0\n",
    "\n",
    "cube_curved = cube.MakeFillet(cube.edges, 0.2)\n",
    "mesh = Mesh(OCCGeometry(Glue(cube_curved.faces)).GenerateMesh(maxh=1)).Curve(order)\n",
    "Draw(mesh)\n",
    "print(f\"K    = {Integrate(GaussCurvature() * ds(bonus_intorder=bonus_order), mesh)}\")\n",
    "print(\n",
    "    f\"kg   = {Integrate(-edge_curve * mu * ds(element_boundary=True, bonus_intorder=bonus_order), mesh)}\",\n",
    ")\n",
    "gf_angle_def = ComputeAngleDeficit(mesh, draw=False)\n",
    "print(f\"kV   = {sum(gf_angle_def.vec)}\")\n",
    "print(\n",
    "    f\"K + kg + kV = {Integrate(GaussCurvature() * ds(bonus_intorder=bonus_order) - edge_curve * mu * ds(element_boundary=True, bonus_intorder=bonus_order), mesh,) + sum(gf_angle_def.vec)}\",\n",
    ")\n",
    "print(f\"4*pi        = {4 * pi}\")"
   ]
  },
  {
   "cell_type": "markdown",
   "metadata": {},
   "source": [
    "Observation: As the mesh's curving is not exact, the angle deficit and jump of geodesic curvature are small but not zero, and the Gauss curvature \"misses\" some curvature. The geodesic curvature and angle deficit repair this. For piecewise flat triangles, the Gauss and geodesic curvature are zero, so only the angle deficit has an impact.\n",
    "\n",
    "Note: Use ''bonus_intorder'' in the above cell for exact geodesic and Gauss curvature integration to get the exact values up to machine rounding-error precision.\n",
    "\n",
    "Remark: There exists no Gauss-Bonnet theorem in three dimensions."
   ]
  },
  {
   "cell_type": "code",
   "execution_count": null,
   "metadata": {},
   "outputs": [],
   "source": []
  }
 ],
 "metadata": {
  "kernelspec": {
   "display_name": "Python 3",
   "language": "python",
   "name": "python3"
  },
  "language_info": {
   "codemirror_mode": {
    "name": "ipython",
    "version": 3
   },
   "file_extension": ".py",
   "mimetype": "text/x-python",
   "name": "python",
   "nbconvert_exporter": "python",
   "pygments_lexer": "ipython3",
   "version": "3.12.11"
  }
 },
 "nbformat": 4,
 "nbformat_minor": 4
}
