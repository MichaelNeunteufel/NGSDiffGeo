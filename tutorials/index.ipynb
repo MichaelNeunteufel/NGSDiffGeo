{
 "cells": [
  {
   "cell_type": "markdown",
   "metadata": {},
   "source": [
    "# Tutorials\n",
    "\n"
   ]
  },
  {
   "cell_type": "markdown",
   "metadata": {},
   "source": [
    "* [Introduction to Riemannian manifolds](riemannian_manifolds.ipynb)\n",
    "* [Covariant derivatives](covariant_derivatives.ipynb)"
   ]
  },
  {
   "cell_type": "markdown",
   "metadata": {},
   "source": [
    "## Future development\n",
    "\n",
    "Interesting extensions we might plan to add in the future include:\n",
    "\n",
    "* Riemann-Cartan manifolds, where a general metric-compatible, but not torsion-free connection is allowed. Possible applications include (nonlinear) plasticity.\n",
    "* Pseudo-Riemannian manifolds, where the metric tensor can have different signature (e.g. the signature -+++ is used to describe spacetime manifolds in general relativity)."
   ]
  }
 ],
 "metadata": {
  "language_info": {
   "name": "python"
  }
 },
 "nbformat": 4,
 "nbformat_minor": 2
}
