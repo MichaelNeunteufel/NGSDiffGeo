{
 "cells": [
  {
   "cell_type": "markdown",
   "id": "9e6b4439",
   "metadata": {},
   "source": [
    "# Regge finite elements and Regge metrics\n",
    "\n",
    "In this notebook, we discuss the Regge finite elements, which we will use to approximate the metric tensor of a (pseudo-)Riemannian manifold. We motivate that the Regge finite element space is the appropriate object to discretize the metric tensor, give some historical remarks, sketch their construction, and relate it to the function space $H(\\mathrm{curl}\\mathrm{curl})$ associated to the incompatibility operator $\\mathrm{inc}$."
   ]
  },
  {
   "cell_type": "markdown",
   "id": "b5502bab",
   "metadata": {},
   "source": [
    "## History of Regge elements\n",
    "\n",
    "Let $(M,g)$ be a (pseudo-)Riemannian manifold with $M\\subset\\mathbb{R}^N$ and $g$ the metric tensor with signature ++++ (positive definite in the Riemannian case) or -+++ (pseudo-Riemannian manifold). After discretizing the manifold's domain $M$ by a simplicial triangulation $\\mathcal{T}$ (e.g., triangles in 2D and tetrahedra in 3D), we need to construct an approximation of the metric tensor $g$ on this triangulation. It will turn out that the Regge finite element space is the correct object.\n",
    "\n",
    "A first intuitive way to approximate $g$ on $\\mathcal{T}$ is to assign to each edge $E_{ij}$, connecting two distinguished points $x_i$ and $x_j$ of the triangulation, its squared lengths $l^2_{ij}$ as measured by the metric $g$, i.e.\n",
    "\\begin{align*}\n",
    "l^2_{ij}= \\int_{E_{ij}}g(t_{E_{ij}},t_{E_{ij}})\\,ds,\n",
    "\\end{align*}\n",
    "where $t_{E_{ij}}$ denotes the unit tangent vector of the edge $E_{ij}$. Using the squared value, we can use negative numbers to account for pseudo-Riemannian manifolds appearing in general relativity. One may hope that this procedure yields a good approximation of the exact metric for a sequence of finer triangulations. With this idea Tullio Regge proposed in [<a href=\"http://link.springer.com/10.1007/BF02733251\">Regge. General relativity without coordinates. <i>Il Nuovo Cimento</i>, (1961).</a>] a method to solve numerical relativity in a coordinate-free way. From the edge lengths, he computed the angle defect (also called angle deficit) to approximate the curvature of the manifold. We will intensively discuss the concept of angle defect in the following notebooks. This method became popular under the name Regge calculus, see, e.g. [<a href=\"https://arxiv.org/abs/1812.06193\">Barret, Oriti, Wiliams. Tullio Regge’s legacy: Regge calculus\n",
    "and discrete gravity. <i>arXiv</i>, (2018).</a>] for a review of Regge calculus. The first proof that this concept of an angle defect converges to the exact curvature was given in [<a href=\"http://doi.org/10.1007/BF01210729\">Cheeger, Müller, Schrader. On the curvature of piecewise flat spaces. <i>Communications in Mathematical Physics</i>, (1984).</a>] by proving convergence in the sense of measures.\n",
    "\n",
    "\n",
    "Convergence in measures is weak. Furthermore, we would also like to use higher-order approximations of the exact one. To this end, we embed the above approach into a FEM context. First, it was recognized by Sorkin in [<a href=\"https://link.aps.org/doi/10.1103/PhysRevD.12.385\">Sorkin. Time-evolution problem in Regge calculus. <i>Phys. Rev. D</i>, (1975).</a>] that assigning length values is equivalent to defining a piecewise constant metric tensor: Let $l_{ij}^2$ denote the value of the edge connecting vertices $x_i$ and $x_j$, $i\\neq j$. Then there exists a unique piece-wise constant metric tensor $g_h$ on the triangulation $\\mathcal{T}$ such that\n",
    "\\begin{align*}\n",
    "g_{h,k\\ell} (x_i-x_j)^k(x_i-x_j)^{\\ell} = l^2_{ij},\n",
    "\\end{align*}\n",
    "The above equation defines the metric $g_h$. Astonishingly, the metric $g_h$ is not completely discontinuous over element interfaces: Let $F$ be an $N-1$-dimensional facet of the triangulation and let $X,Y$ be two vector fields living in $F$, i.e. they are tangential vector fields on $F$, $X,Y\\in \\mathfrak{X}(F)$. Then the values $g_h(X,Y)$ measured by the piece-wise constant metric $g_h$ on the two elements $T_L$ and $T_R$ connected by $F= T_L\\cap T_R$ coincide\n",
    "\\begin{align*}\n",
    "{g_h}|_{T_L}(X,Y) = {g_h}|_{T_R}(X,Y),\\qquad \\forall X,Y\\in\\mathfrak{X}(F),\\quad F=T_L \\cap T_R.\n",
    "\\end{align*}\n",
    "We call this property tangential-tangential continuity, or in short $tt$-continuity. Note that the components involve at least one normal vector jump in general.\n",
    "\n",
    "Christiansen [<a href=\"https://doi.org/10.1007/s00211-011-0394-z\">Christiansen. On the linearization of Regge calculus. <i>Numerische Mathematik</i>, (2011).</a>] embedded Regge calculus into a FEM context with finite element exterior calculus (FEEC), similar to Whitney 1-forms were identified as Nedelec elements. In contrast to the tangential continuous Nedelec elements, which are a conforming subspace of $H(\\mathrm{curl})=\\{u\\in L^2(\\Omega,\\mathbb{R}^N)\\,:\\, \\mathrm{curl}(u)\\in L^2\\}$, Regge elements\n",
    "\\begin{align*}\n",
    "\\mathrm{Reg_h^0}:=\\left\\{ \\sigma_h\\in \\mathcal{P}^0(\\mathcal{T},\\mathbb{R}^{3\\times 3}_{\\mathrm{sym}})\\,:\\, \\sigma_h \\text{ is } tt\\text{-continuous}\\right\\}\n",
    "\\end{align*}\n",
    "are a slightly non-conforming subspace of the function space \n",
    "\\begin{align*}\n",
    "H(\\mathrm{curl}\\,\\mathrm{curl},\\Omega)=\\left\\{\\sigma \\in L^2(\\Omega,\\mathbb{R}^{3\\times 3}_{\\mathrm{sym}})\\,:\\, \\mathrm{inc}(\\sigma):=\\mathrm{curl}^T\\mathrm{curl}(\\sigma)\\in H^{-1}(\\Omega,\\mathbb{R}^{3\\times 3}_{\\mathrm{sym}})\\right\\},\n",
    "\\end{align*}\n",
    "where $\\mathrm{inc}$ is the incompatibility operator. It is ``slightly non-conforming'' because the required Sobolev embedding theorem fails to hold by an arbitrarily small $\\varepsilon>0$. In [<a href=\"http://hdl.handle.net/11299/199048\">Li. Regge Finite Elements with Applications in Solid Mechanics and Relativity. <i>PhD thesis</i>, (2018).</a>] Li extended the Regge finite element space to arbitrary polynomial order, $\\mathrm{Reg}_h^k$, and arbitrary dimensions $\\Omega\\subset \\mathbb{R}^N$ for simplicial triangulations. Regge finite elements for quadrilateral, hexahedra, and prisms have been defined in [<a href=\"https://repositum.tuwien.at/handle/20.500.12708/17043\">Neunteufel. Mixed finite Element Methods For Nonlinear Continuum Mechanics and Shells. <i>PhD thesis</i>, (2021).</a>]."
   ]
  },
  {
   "cell_type": "markdown",
   "id": "28d9e038",
   "metadata": {},
   "source": [
    "## Regge finite element construction\n",
    "\n",
    "We sketch the construction of Regge finite elements for triangles and tetrahedra. For other shapes, we refer to [<a href=\"https://repositum.tuwien.at/handle/20.500.12708/17043\">Neunteufel. Mixed finite Element Methods For Nonlinear Continuum Mechanics and Shells. <i>PhD thesis</i>, (2021).</a>]. The degrees of freedom (DoFs) to construct globally tangential-tangential continuous functions are motivated by the edge lengths and their extensions to higher dimensional simplices. They read for polynomial order $k$ on a tetrahedron $T$ with according faces $F_i$ and edges $E_i$\n",
    "$$\n",
    "\\begin{align*}\n",
    "&\\Psi^j_{E_i}: \\sigma\\mapsto \\int_{E_i}\\sigma(t_i,t_i)\\,q_j\\,dl,&&\\qquad q_j\\in\\mathcal{P}^k(E_i),\\\\\n",
    "&\\Psi^j_{F_i}: \\sigma\\mapsto \\int_{F_i}\\sigma : Q_j\\,da,&&\\qquad Q_j\\in\\mathcal{P}^{k-1}(F_i, TF_i\\odot TF_i),\\\\\n",
    "&\\Psi^j_{T}: \\sigma\\mapsto \\int_{T}\\sigma : Q_j\\,dx,&&\\qquad Q_j\\in\\mathcal{P}^{k-2}(T,\\mathbb{R}^{3\\times 3}_{\\mathrm{sym}}),\\\\\n",
    "\\end{align*}\n",
    "$$\n",
    "Here, $TF_i\\odot TF_i$ denotes the symmetric dyadic product of vectors in the tangent space of $F_i$. That means symmetric, matrix-valued polynomials, which are zero when multiplied with the normal vector from either side. Only the edge DoFs and the internal ones are required for a triangle.\n",
    "\n",
    "\n",
    "We can construct lowest order edge and bubble shape functions of a triangle with the barycentric coordinates $\\lambda_1$, $\\lambda_2$, $\\lambda_3$.\n",
    "\n",
    "$$\n",
    "\\begin{align*}\n",
    " \\varphi_{E_i} = \\nabla \\lambda_j\\odot\\nabla \\lambda_k,\\qquad t_j^\\top\\varphi_{E_i}t_j=c_i\\delta_{ij},\\qquad\\qquad\\varphi_{T_i} = \\lambda_i\\,\\nabla \\lambda_j\\odot\\nabla \\lambda_k.\n",
    "\\end{align*}\n",
    "$$\n",
    "\n",
    "For higher-order shape functions, one might augment these low-order functions by, e.g. linear independent Legendre and Jacobi polynomials. The construction for higher-dimensional simplices follows the same lines, for example, by constructing appropriate bubble functions. In the following figure, the DoFs are schematically sketched for some shapes.\n",
    "\n",
    "<center>\n",
    "<table>\n",
    " <tr>\n",
    " <td><img src=\"figures/hcurlcurl_0_trig_ref_1.jpg\" width=\"120\"/></td>\n",
    " <td> <img src=\"figures/hcurlcurl_0_trig_ref_2.jpg\" width=\"120\"/> </td>\n",
    "<td> <img src=\"figures/hcurlcurl_0_tet_ref_1.jpg\" width=\"130\"/> </td>\n",
    "</tr>\n",
    " <tr>\n",
    " <td><img src=\"figures/hcurlcurl_0_quad_ref_1.jpg\" width=\"120\"/></td>\n",
    " <td> <img src=\"figures/hcurlcurl_0_hex_ref_1.jpg\" width=\"120\"/> </td>\n",
    "<td> <img src=\"figures/hcurlcurl_0_prism_ref_1.jpg\" width=\"130\"/> </td>\n",
    "</tr>\n",
    "</table>\n",
    "</center>\n",
    "\n",
    "The canonical Regge interpolant $\\mathcal{I}_{Reg}^k$ is defined by the requirement to preserve tangential-tangential moments at edges and inner moments\n",
    "\n",
    "$$\n",
    "\\begin{align*}\n",
    " &\\mathcal{I}_{Reg}^k:C^0(\\Omega,\\mathbb{R}^{2\\times 2}_{\\mathrm{sym}})\\to \\text{Reg}_h^k,\\\\\n",
    " &\\int_{E}(g-\\mathcal{I}_{Reg}^kg)_{tt}\\,q\\,dl = 0 \\text{ for all } q\\in \\mathcal{P}^{k}(E),\\\\\n",
    " &\\int_T(g-\\mathcal{I}_{Reg}^kg) : Q\\,da = 0 \\text{ for all } Q\\in \\mathcal{P}^{k-1}(T,\\mathbb{R}^{2\\times 2}_{\\mathrm{sym}})\n",
    "\\end{align*}\n",
    "$$\n",
    "\n",
    "and can easily be extended to higher dimensions."
   ]
  },
  {
   "cell_type": "markdown",
   "id": "9f1c20e5",
   "metadata": {},
   "source": [
    "## Further applications of Regge finite elements\n",
    "Besides their essential contribution in discretizing the metric tensor of (pseudo-)Riemannian manifolds for curvature approximation and numerical relativity, Regge finite elements have been successfully used to discretize fields in elasticity.\n",
    "\n",
    "* Avoiding membrane locking in (nonlinear) shell analysis by interpolating the membrane stresses into the Regge finite element space [<a href=\"https://doi.org/10.1016/j.cma.2020.113524\">Neunteufel, Schöberl. Avoiding membrane locking with Regge interpolation. <i>Computer Methods in Applied Mechanics and Engineering</i>, (2021).</a>]\n",
    "* Linear and nonlinear elasticity (continuum mechanics) by discretizing the strain/stress tensor by Regge elements [<a href=\"http://hdl.handle.net/11299/199048\">Li. Regge Finite Elements with Applications in Solid Mechanics and Relativity. <i>PhD thesis</i>, (2018).</a>], [<a href=\"https://doi.org/10.1137/110848189\">Hauret, Hecht. A discrete differential sequence for elasticity based upon continuous displacements. <i>SIAM Journal on Scientific Computing</i>, (2013).</a>], [<a href=\"https://doi.org/10.1016/j.cma.2021.113857\">Neunteufel, Pechstein, Schöberl. Three-field mixed finite element methods for nonlinear elasticity. <i>Computer Methods in Applied Mechanics and Engineering</i>, (2021).</a>]"
   ]
  },
  {
   "cell_type": "markdown",
   "id": "dc521773",
   "metadata": {},
   "source": []
  },
  {
   "cell_type": "markdown",
   "id": "c84a49e3",
   "metadata": {},
   "source": []
  },
  {
   "cell_type": "markdown",
   "id": "bc75c133",
   "metadata": {},
   "source": []
  },
  {
   "cell_type": "markdown",
   "id": "bae8ef61",
   "metadata": {},
   "source": []
  }
 ],
 "metadata": {
  "language_info": {
   "name": "python"
  }
 },
 "nbformat": 4,
 "nbformat_minor": 5
}
